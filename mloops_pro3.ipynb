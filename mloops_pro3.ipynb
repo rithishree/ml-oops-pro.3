{
  "nbformat": 4,
  "nbformat_minor": 0,
  "metadata": {
    "colab": {
      "provenance": [],
      "authorship_tag": "ABX9TyPUOgLpBmsZisKbn4DeAu4y",
      "include_colab_link": true
    },
    "kernelspec": {
      "name": "python3",
      "display_name": "Python 3"
    },
    "language_info": {
      "name": "python"
    }
  },
  "cells": [
    {
      "cell_type": "markdown",
      "metadata": {
        "id": "view-in-github",
        "colab_type": "text"
      },
      "source": [
        "<a href=\"https://colab.research.google.com/github/rithishree/ml-oops-pro.3/blob/main/mloops_pro3.ipynb\" target=\"_parent\"><img src=\"https://colab.research.google.com/assets/colab-badge.svg\" alt=\"Open In Colab\"/></a>"
      ]
    },
    {
      "cell_type": "code",
      "execution_count": 14,
      "metadata": {
        "colab": {
          "base_uri": "https://localhost:8080/"
        },
        "id": "0J6dyQcTSqYH",
        "outputId": "127e69d2-723b-40f4-ffa1-33c1ce1a0791"
      },
      "outputs": [
        {
          "output_type": "stream",
          "name": "stdout",
          "text": [
            " Classification Report:\n",
            "\n",
            "              precision    recall  f1-score   support\n",
            "\n",
            "           0       1.00      1.00      1.00        19\n",
            "           1       1.00      1.00      1.00        13\n",
            "           2       1.00      1.00      1.00        13\n",
            "\n",
            "    accuracy                           1.00        45\n",
            "   macro avg       1.00      1.00      1.00        45\n",
            "weighted avg       1.00      1.00      1.00        45\n",
            "\n"
          ]
        }
      ],
      "source": [
        "# Step 1: Import Required Libraries\n",
        "from sklearn.datasets import load_iris\n",
        "from sklearn.model_selection import train_test_split\n",
        "from sklearn.preprocessing import StandardScaler\n",
        "from sklearn.tree import DecisionTreeClassifier\n",
        "from sklearn.metrics import classification_report\n",
        "# Step 2: Data Loader Class\n",
        "class DataLoader:\n",
        "  def __init__(self):\n",
        "    self.X, self.y = load_iris(return_X_y=True)\n",
        "  def split(self, test_size=0.3, random_state=42):\n",
        "    return train_test_split(self.X, self.y, test_size=test_size,\n",
        "random_state=random_state)\n",
        "# Step 3: Preprocessor Class\n",
        "class Preprocessor:\n",
        "  def __init__(self):\n",
        "    self.scaler = StandardScaler()\n",
        "  def fit_transform(self, X_train):\n",
        "    return self.scaler.fit_transform(X_train)\n",
        "  def transform(self, X_test):\n",
        "    return self.scaler.transform(X_test)\n",
        "\n",
        "# Step 4: ML Model Class\n",
        "class MLModel:\n",
        "  def __init__(self):\n",
        "    self.model = DecisionTreeClassifier()\n",
        "  def train(self, X_train, y_train):\n",
        "    self.model.fit(X_train, y_train)\n",
        "  def predict(self, X_test):\n",
        "    return self.model.predict(X_test)\n",
        "\n",
        "# Step 5: Evaluator Class\n",
        "class Evaluator:\n",
        "  def __init__(self, y_true, y_pred):\n",
        "    self.y_true = y_true\n",
        "    self.y_pred = y_pred\n",
        "  def report(self):\n",
        "    print(\" Classification Report:\\n\")\n",
        "    print(classification_report(self.y_true, self.y_pred))\n",
        "\n",
        "# Step 6: Main ML Application Class\n",
        "class MLApplication:\n",
        "  def __init__(self):\n",
        "    self.loader = DataLoader()\n",
        "    self.preprocessor = Preprocessor()\n",
        "    self.model = MLModel()\n",
        "  def run(self):\n",
        "    # Load and split data\n",
        "    X_train, X_test, y_train, y_test = self.loader.split()\n",
        "\n",
        "    # Preprocess data\n",
        "    X_train_scaled = self.preprocessor.fit_transform(X_train)\n",
        "    X_test_scaled = self.preprocessor.transform(X_test)\n",
        "    # Train model\n",
        "    self.model.train(X_train_scaled, y_train)\n",
        "    y_pred = self.model.predict(X_test_scaled)\n",
        "    # Evaluate\n",
        "    evaluator = Evaluator(y_test, y_pred)\n",
        "    evaluator.report()\n",
        "\n",
        "# Step 7: Execute the Pipeline\n",
        "app = MLApplication()\n",
        "app.run()"
      ]
    },
    {
      "cell_type": "code",
      "metadata": {
        "id": "f6fee82c"
      },
      "source": [
        "# Introduce a base class for classifiers to demonstrate inheritance\n",
        "class BaseClassifier:\n",
        "    def __init__(self):\n",
        "        # Common initialization or attributes could go here\n",
        "        pass\n",
        "\n",
        "    def train(self, X_train, y_train):\n",
        "        # Base training method (can be overridden by subclasses)\n",
        "        raise NotImplementedError(\"Subclass must implement abstract method\")\n",
        "\n",
        "    def predict(self, X_test):\n",
        "        # Base prediction method (can be overridden by subclasses)\n",
        "        raise NotImplementedError(\"Subclass must implement abstract method\")"
      ],
      "execution_count": 15,
      "outputs": []
    },
    {
      "cell_type": "markdown",
      "metadata": {
        "id": "fa1c7095"
      },
      "source": [
        "Now, let's modify the `MLModel` class to inherit from `BaseClassifier`."
      ]
    },
    {
      "cell_type": "code",
      "metadata": {
        "id": "b8b1caa8"
      },
      "source": [
        "# Modify MLModel to inherit from BaseClassifier\n",
        "class MLModel(BaseClassifier): # Inheriting from BaseClassifier\n",
        "    def __init__(self):\n",
        "        super().__init__() # Call the parent class's __init__\n",
        "        self.model = DecisionTreeClassifier()\n",
        "\n",
        "    def train(self, X_train, y_train):\n",
        "        # Implement the training method specific to DecisionTreeClassifier\n",
        "        self.model.fit(X_train, y_train)\n",
        "\n",
        "    def predict(self, X_test):\n",
        "        # Implement the prediction method specific to DecisionTreeClassifier\n",
        "        return self.model.predict(X_test)"
      ],
      "execution_count": 16,
      "outputs": []
    },
    {
      "cell_type": "markdown",
      "metadata": {
        "id": "e82a9be4"
      },
      "source": [
        "Now, you can run the `MLApplication` again with the modified `MLModel` class that uses inheritance."
      ]
    },
    {
      "cell_type": "code",
      "metadata": {
        "colab": {
          "base_uri": "https://localhost:8080/"
        },
        "id": "55608af7",
        "outputId": "07ba6ce0-6ae8-478b-fc7e-927d69dfab2b"
      },
      "source": [
        "# Step 7: Execute the Pipeline\n",
        "app = MLApplication()\n",
        "app.run()"
      ],
      "execution_count": 17,
      "outputs": [
        {
          "output_type": "stream",
          "name": "stdout",
          "text": [
            " Classification Report:\n",
            "\n",
            "              precision    recall  f1-score   support\n",
            "\n",
            "           0       1.00      1.00      1.00        19\n",
            "           1       1.00      1.00      1.00        13\n",
            "           2       1.00      1.00      1.00        13\n",
            "\n",
            "    accuracy                           1.00        45\n",
            "   macro avg       1.00      1.00      1.00        45\n",
            "weighted avg       1.00      1.00      1.00        45\n",
            "\n"
          ]
        }
      ]
    },
    {
      "cell_type": "code",
      "source": [
        "!git clone https://github.com/rithishree/ml-oops-pro.3.git\n",
        "%cd ml-oops-pro.3"
      ],
      "metadata": {
        "colab": {
          "base_uri": "https://localhost:8080/"
        },
        "id": "N3ptrKcLYBgf",
        "outputId": "37bfa6f2-833b-49d3-f39c-2846b677e34b"
      },
      "execution_count": 18,
      "outputs": [
        {
          "output_type": "stream",
          "name": "stdout",
          "text": [
            "Cloning into 'ml-oops-pro.3'...\n",
            "remote: Enumerating objects: 3, done.\u001b[K\n",
            "remote: Counting objects: 100% (3/3), done.\u001b[K\n",
            "remote: Total 3 (delta 0), reused 0 (delta 0), pack-reused 0 (from 0)\u001b[K\n",
            "Receiving objects: 100% (3/3), done.\n",
            "/content/ml-oops-pro.3\n"
          ]
        }
      ]
    }
  ]
}